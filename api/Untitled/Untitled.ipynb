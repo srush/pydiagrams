{
 "cells": [
  {
   "cell_type": "code",
   "execution_count": null,
   "id": "216bba1e",
   "metadata": {},
   "outputs": [],
   "source": [
    "import chalk"
   ]
  },
  {
   "cell_type": "markdown",
   "id": "6b7832e7",
   "metadata": {},
   "source": [
    "# hello \n",
    "\n",
    "::: chalk.circle"
   ]
  },
  {
   "cell_type": "code",
   "execution_count": null,
   "id": "9658fbb9",
   "metadata": {},
   "outputs": [],
   "source": [
    "chalk.circle()"
   ]
  }
 ],
 "metadata": {
  "kernelspec": {
   "display_name": "Python 3 (ipykernel)",
   "language": "python",
   "name": "python3"
  },
  "language_info": {
   "codemirror_mode": {
    "name": "ipython",
    "version": 3
   },
   "file_extension": ".py",
   "mimetype": "text/x-python",
   "name": "python",
   "nbconvert_exporter": "python",
   "pygments_lexer": "ipython3",
   "version": "3.9.7"
  }
 },
 "nbformat": 4,
 "nbformat_minor": 5
}
